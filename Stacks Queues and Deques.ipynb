{
 "cells": [
  {
   "cell_type": "markdown",
   "metadata": {},
   "source": [
    "#### Queue\n",
    "\n",
    "queue是一個有序的容器，個人想像是這樣的，你想成有一個管子（序列容器），以下我們來分析行為及動作\n",
    "\n",
    "1. 從後面堆入東西\n",
    "\n",
    "動作名為enqueue，而這個終端(end)被稱為(rear)。\n",
    "東西堆一堆後，總會滿的就會從前面開始釋放\n",
    "\n",
    "2. 從前面釋放\n",
    "\n",
    "動作名為dequeue，而這個終端(end)被稱為(front)。\n",
    "\n",
    "![示意圖](https://netmatze.files.wordpress.com/2014/08/queue.png)\n",
    "\n",
    "\n",
    "#### dequeue (發音dek)\n",
    "\n",
    "基本上跟queue一樣，只差在他並沒有限制只能在rear加入東西，front只能釋放，他就是兩邊隨意，所以才會被稱為 double ended queue\n",
    "\n",
    "![示意圖](http://www.codeproject.com/KB/recipes/669131/deque.png)\n",
    "\n",
    "\n",
    "\n",
    "## interview questions\n",
    "\n",
    "\n",
    "#### implement a stack"
   ]
  },
  {
   "cell_type": "code",
   "execution_count": 6,
   "metadata": {
    "collapsed": true
   },
   "outputs": [],
   "source": [
    "class Stack:\n",
    "    \n",
    "    def __init__(self):\n",
    "        self.container = []\n",
    "        \n",
    "    def isEmpty(self):\n",
    "        return self.container == []\n",
    "    \n",
    "    def push(self, ele):\n",
    "        self.container.append(ele)\n",
    "        \n",
    "    def pop(self):\n",
    "        return self.container.pop()\n",
    "        \n",
    "    @property\n",
    "    def size(self):\n",
    "        return len(self.container)\n",
    "    \n",
    "    def peek(self):\n",
    "        return self.container[-1]\n",
    "    "
   ]
  },
  {
   "cell_type": "code",
   "execution_count": 12,
   "metadata": {
    "collapsed": true
   },
   "outputs": [],
   "source": [
    "class Queue:\n",
    "    \n",
    "    def __init__(self):\n",
    "        self.container = []\n",
    "        \n",
    "    def isEmpty(self):\n",
    "        return self.container == []\n",
    "    \n",
    "    def enqueue(self, ele):\n",
    "        self.container.append(ele)\n",
    "    \n",
    "    def dequeue(self):\n",
    "        self.container.pop(0)\n",
    "    \n",
    "    @property\n",
    "    def size(self):\n",
    "        return len(self.container)\n",
    "    \n",
    "\n",
    "class Queue2Stack:\n",
    "    \n",
    "    def __init__(self):\n",
    "        self.stack1 = []\n",
    "        self.stack2 = []\n",
    "    \n",
    "    def enqueue(self, ele):\n",
    "        self.stack1.append(ele)\n",
    "    \n",
    "    def dequeue(self):\n",
    "        if self.stack2 != []:\n",
    "            for ele in self.stack1:\n",
    "                self.stack2.append(ele)\n",
    "                \n",
    "        return self.stack2.pop()\n",
    "    \n",
    "# 反正概念就在 stack 跟 queue 的特色不同一個是LIFO, FIFO, 所以用兩個stack，就是反轉就會變成FIFO"
   ]
  },
  {
   "cell_type": "code",
   "execution_count": 14,
   "metadata": {
    "collapsed": true
   },
   "outputs": [],
   "source": [
    "class Deque:\n",
    "    \n",
    "    def __init__(self):\n",
    "        self.container = []\n",
    "        \n",
    "    def isEmpty(self):\n",
    "        return self.container == []\n",
    "    \n",
    "    def addFront(self, ele):\n",
    "        self.container.append(ele)\n",
    "    \n",
    "    def addRear(self, ele):\n",
    "        self.container.insert(0, ele)\n",
    "        \n",
    "    def removeFront(self):\n",
    "        self.container.pop()\n",
    "        \n",
    "    def removeRear(self):\n",
    "        self.container.remove()\n",
    "        \n",
    "    @property\n",
    "    def size(self):\n",
    "        return len(self.container)"
   ]
  },
  {
   "cell_type": "markdown",
   "metadata": {},
   "source": [
    "#### balanced parentheses check\n",
    "\n",
    "給予一個字串，檢查括號是否有完整，也就是說是否左括弧跟右括弧都有，然後括弧有三種() {} [] ，如果他們左括弧出現順序跟右括弧出現順序是呈現reverse那麼就會是balanced，"
   ]
  },
  {
   "cell_type": "code",
   "execution_count": 33,
   "metadata": {
    "collapsed": true
   },
   "outputs": [],
   "source": [
    "def balanced_check(str1):\n",
    "    mapping = {\n",
    "        '(': ')',\n",
    "        ')': '(',\n",
    "        '{': '}',\n",
    "        '}': '{',\n",
    "        '[': ']',\n",
    "        ']': '['\n",
    "    }\n",
    "    \n",
    "    closing_parens = ']})'\n",
    "    opening_parens = '({['\n",
    "    \n",
    "    paren_stack = []\n",
    "    \n",
    "    for ele in str1:\n",
    "        if ele in closing_parens:\n",
    "            left = paren_stack.pop()\n",
    "            \n",
    "            if mapping[left] != ele:\n",
    "                return False\n",
    "        elif ele in opening_parens:\n",
    "            paren_stack.append(ele)\n",
    "    \n",
    "    if paren_stack != []:\n",
    "        return False\n",
    "    return True"
   ]
  },
  {
   "cell_type": "code",
   "execution_count": 34,
   "metadata": {},
   "outputs": [
    {
     "name": "stdout",
     "output_type": "stream",
     "text": [
      "success\n"
     ]
    }
   ],
   "source": [
    "import unittest\n",
    "\n",
    "\n",
    "class TestBalancedCheck(unittest.TestCase):\n",
    "    \n",
    "    def test(self, solve):\n",
    "        self.assertEqual(solve('[](){([[[]]])}('),False)\n",
    "        self.assertEqual(solve('[{{{(())}}}]((()))'),True)\n",
    "        self.assertEqual(solve('[[[]])]'),False)\n",
    "        print('success')\n",
    "        \n",
    "t = TestBalancedCheck()\n",
    "t.test(balanced_check)\n"
   ]
  }
 ],
 "metadata": {
  "kernelspec": {
   "display_name": "Python 3",
   "language": "python",
   "name": "python3"
  },
  "language_info": {
   "codemirror_mode": {
    "name": "ipython",
    "version": 3
   },
   "file_extension": ".py",
   "mimetype": "text/x-python",
   "name": "python",
   "nbconvert_exporter": "python",
   "pygments_lexer": "ipython3",
   "version": "3.6.4"
  }
 },
 "nbformat": 4,
 "nbformat_minor": 2
}
