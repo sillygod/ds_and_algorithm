{
 "cells": [
  {
   "cell_type": "markdown",
   "metadata": {
    "collapsed": true
   },
   "source": [
    "# Dynamic array\n",
    "\n",
    "python的list，實際上就是類似c++的vector那種動態array的機制，一開始就先給你一定容量的container，等到滿了就在new一個容量更大的array，然後搬過去，下面實際舉個例子就會比較清楚了"
   ]
  },
  {
   "cell_type": "code",
   "execution_count": 32,
   "metadata": {},
   "outputs": [
    {
     "name": "stdout",
     "output_type": "stream",
     "text": [
      "0 64\n",
      "1 96\n",
      "2 96\n",
      "3 96\n",
      "4 96\n",
      "5 128\n",
      "6 128\n",
      "7 128\n",
      "8 128\n",
      "9 192\n"
     ]
    }
   ],
   "source": [
    "import sys\n",
    "\n",
    "\n",
    "lst = []\n",
    "\n",
    "for i in range(10):\n",
    "    \n",
    "    print('{} {}'.format(len(lst), sys.getsizeof(lst)))\n",
    "    lst.append(i)"
   ]
  },
  {
   "cell_type": "markdown",
   "metadata": {},
   "source": [
    "原本我都以為python list是個類似link list的實作咧，不過從這個測試來看，應該就是類似vector這種dynamic array的機制，當然想要更了解就是去看python source code，但是哈哈那是個龐大工程！，我們可以藉由python ctypes來實作一個小小的dynamic array。"
   ]
  },
  {
   "cell_type": "code",
   "execution_count": 33,
   "metadata": {
    "collapsed": true
   },
   "outputs": [],
   "source": [
    "import ctypes\n",
    "\n",
    "class DynamicArray:\n",
    "    \n",
    "    def __init__(self):\n",
    "        self.n = 0\n",
    "        self.capacity = 1\n",
    "        self.A = self.make_array(self.capacity)\n",
    "        \n",
    "    def __len__(self):\n",
    "        return self.n\n",
    "    \n",
    "    def __sizeof__(self):\n",
    "        return ctypes.sizeof(self.A)\n",
    "    \n",
    "    def __getitem(self, index):\n",
    "        if not 0 < index <= self.n:\n",
    "            raise IndexError('out of bound')\n",
    "        \n",
    "        return self.A[index]\n",
    "    \n",
    "    def append(self, ele):\n",
    "        if self.n == self.capacity:\n",
    "            self._resize(self.capacity*2)\n",
    "        \n",
    "        self.A[self.n] = ele\n",
    "        self.n += 1\n",
    "    \n",
    "    def _resize(self, new_cap):\n",
    "        B = self.make_array(new_cap)\n",
    "        \n",
    "        for index, ele in enumerate(self.A):\n",
    "            B[index] = ele\n",
    "            \n",
    "        self.A = B\n",
    "        self.capacity = new_cap\n",
    "        \n",
    "    def make_array(self, new_cap):\n",
    "        return (ctypes.py_object*new_cap)()"
   ]
  },
  {
   "cell_type": "markdown",
   "metadata": {},
   "source": [
    "以下我們來測試一下，進行跟python list類似的範例"
   ]
  },
  {
   "cell_type": "code",
   "execution_count": 34,
   "metadata": {},
   "outputs": [
    {
     "name": "stdout",
     "output_type": "stream",
     "text": [
      "0 32 8\n",
      "1 32 8\n",
      "2 40 16\n",
      "3 56 32\n",
      "4 56 32\n",
      "5 88 64\n",
      "6 88 64\n",
      "7 88 64\n",
      "8 88 64\n",
      "9 152 128\n",
      "10 152 128\n",
      "11 152 128\n",
      "12 152 128\n",
      "13 152 128\n",
      "14 152 128\n",
      "15 152 128\n",
      "16 152 128\n",
      "17 280 256\n",
      "18 280 256\n",
      "19 280 256\n"
     ]
    }
   ],
   "source": [
    "from ctypes import sizeof\n",
    "\n",
    "darry = DynamicArray()\n",
    "\n",
    "for i in range(20):\n",
    "    print('{} {} {}'.format(len(darry), sys.getsizeof(darry), sizeof(darry.A)))\n",
    "    \n",
    "    darry.append(i)\n",
    "    \n"
   ]
  },
  {
   "cell_type": "markdown",
   "metadata": {},
   "source": [
    "注意`sys getsizeof`這個方法，[官方文檔](https://docs.python.org/3/library/sys.html)，可以看出他是實際上只針對該物件內容進行size計算，而不會另外去針對裡面內容額外指到的物件，因此這裡的獲得的size不會因為我們new array而有所改變，甚至是class多增加屬性也不會增加其size，所以～ 這裡我才改寫了`__sizeof__`讓他比較像原生lst的行為。\n",
    "\n",
    "\n",
    "## Amortized Analysis\n",
    "\n",
    "amaortization中文意思是分期償還，這裡會提到這個東西是因為我們接下來要對dynamic array的append效率來做分析，首先就先來觀察並分析如下表\n",
    "\n",
    "```python\n",
    "def append(self, ele):\n",
    "    if self.n == self.capacity:\n",
    "        self._resize(self.capacity*2)\n",
    "\n",
    "    self.A[self.n] = ele\n",
    "    self.n += 1\n",
    "    \n",
    "    \n",
    "def _resize(self, new_cap):\n",
    "        B = self.make_array(new_cap)\n",
    "        \n",
    "        for index, ele in enumerate(self.A):\n",
    "            B[index] = ele\n",
    "            \n",
    "        self.A = B\n",
    "        self.capacity = new_cap\n",
    "```\n",
    "\n",
    "| No. | ary cap  | cost | is resized |\n",
    "| --- | ---      | ---  |  ---       |\n",
    "|  1  |   1      |  1   |   x        |\n",
    "|  2  |   2      |  2   |   o        |\n",
    "|  3  |   4      |  3   |   o        |\n",
    "|  4  |   4      |  1   |   x        |\n",
    "|  5  |   8      |  5   |   o        |\n",
    "|  6  |   8      |  1   |   x        |\n",
    "|  7  |   8      |  1   |   x        |\n",
    "|  8  |   8      |  1   |   x        |\n",
    "|  9  |   8      |  9   |   o        |\n",
    "\n",
    "每一次要resize時都會做copy動作，看看No. 9 那裡較明顯，因為要插入時發現是滿的，所以就做了resize，裡面動作有做到8次assgin（將前面的array內容複製到新array裡），另外一次就是新資料的輸入\n",
    "\n",
    "$$ \\frac{1+2+3+1+5+1+1+1+9+...}{n} $$\n",
    "\n",
    "2, 3, 5 , 9 可以變成 (1+1) (1+2) (1+4) (1+8)\n",
    "\n",
    "$$ \\frac{(1+1+1....+1) + (1+2+4+8+..)}{n} $$\n",
    "\n",
    "\n",
    "可以再繼續變化成下面這樣\n",
    "\n",
    "$$ \\frac{ \\sum_{i=1}^n 1 + \\sum_{i=1}^{(\\log_2{n-1}) + 1} 2^{i-1} } {n} $$\n",
    "\n",
    "\n",
    "#### 等比級數公式\n",
    "\n",
    "$$ S_n = \\frac{a_1 - r^n}{1-r} $$\n",
    "\n",
    "\n",
    "藉由等比級數可以將上面式子變成\n",
    "\n",
    "$$ \\frac { n + 2^{(\\log_2 n-1) + 1} } {n}  = \\frac { n+ 2*(n-1)} {n} = \\frac {3n-2} {n} $$\n",
    "\n",
    "算完之後這個效率等於 $ O(1) $"
   ]
  },
  {
   "cell_type": "markdown",
   "metadata": {},
   "source": [
    "#### amortized analysis\n",
    "\n",
    "有三種方式\n",
    "\n",
    " - the aggregate method\n",
    " - the banker's method\n",
    " - the physicist's method(potential function)\n",
    "\n",
    "\n",
    "`The amortized cost` per operation for a sequence of n operations is the total\n",
    "cost of the operations divided by n.\n",
    "\n",
    "其實說穿了amortized cost就是一種平均成本的概念，n次操作中，僅少數是昂貴的操作，絕大多數都是便宜的操作，平均後就會是便宜的操作，上面dynamic array就是個例子\n",
    "\n",
    "\n",
    "`A potential function` is a function of the state of a system, that generally should\n",
    "be non-negative and start at 0, and is used to smooth out analysis of some algorithm or process.\n",
    "\n",
    "\n",
    "http://gian3211.blogspot.tw/2013/04/amortized-analysis_19.html\n",
    "http://blog.csdn.net/touzani/article/details/1696399\n"
   ]
  }
 ],
 "metadata": {
  "kernelspec": {
   "display_name": "Python 3",
   "language": "python",
   "name": "python3"
  },
  "language_info": {
   "codemirror_mode": {
    "name": "ipython",
    "version": 3
   },
   "file_extension": ".py",
   "mimetype": "text/x-python",
   "name": "python",
   "nbconvert_exporter": "python",
   "pygments_lexer": "ipython3",
   "version": "3.5.2"
  }
 },
 "nbformat": 4,
 "nbformat_minor": 2
}
