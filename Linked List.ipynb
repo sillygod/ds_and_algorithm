{
 "cells": [
  {
   "cell_type": "markdown",
   "metadata": {},
   "source": [
    "# Linked List\n",
    "\n",
    "#### note\n",
    "\n",
    "[a good cheatsheet](http://bigocheatsheet.com/)\n",
    "\n",
    "[a good explaination](https://en.wikipedia.org/wiki/Array_data_structure)\n",
    "\n",
    "linked list 就是一連串連結的點組成的list，根據連結形式而有下列幾種類別\n",
    "\n",
    "### Single Linked List\n",
    "\n",
    "最簡單的一種，就像單行道一樣，頭節點連到尾節點，但是無法從尾到頭。"
   ]
  },
  {
   "cell_type": "code",
   "execution_count": 4,
   "metadata": {
    "collapsed": true
   },
   "outputs": [],
   "source": [
    "class Node:\n",
    "    \n",
    "    def __init__(self, value):\n",
    "        self.value = value\n",
    "        self.next = None\n",
    "        \n",
    "a = Node(1)\n",
    "b = Node(2)\n",
    "c = Node(3)\n",
    "\n",
    "a.next = b\n",
    "b.next = c\n",
    "\n"
   ]
  },
  {
   "cell_type": "code",
   "execution_count": 5,
   "metadata": {},
   "outputs": [
    {
     "name": "stdout",
     "output_type": "stream",
     "text": [
      "1\n",
      "2\n"
     ]
    }
   ],
   "source": [
    "print(a.value)\n",
    "print(a.next.value)"
   ]
  },
  {
   "cell_type": "markdown",
   "metadata": {},
   "source": [
    "上面是最簡單版本linked list，是single linked list，接著下面列出linked list和array的操作分析\n",
    "\n",
    "| data structure | insert(delete) beginning | i/d middle              | i/d end    | access element |\n",
    "| :---           | :---                     | :---                    | :---       | :---           |\n",
    "| linked list    |  $ O(1) $                | $ search time + O(1) $  | $ O(1) $   | $ O(n)  $      |\n",
    "| array          |  $ O(n) $                | $ O(n) $                | $ O(1) $ amortized | $ O(1) |\n",
    "\n",
    "值得注意的是array insert end的BigO，這裡是經過前面的amortized分析是 $ O(1) $，但是對於insert middle，不管怎樣你都需要copy move，n/x 的動作，所以一定是 $ O(n) $ \n",
    "\n",
    "\n",
    "# Doubly Linked list\n",
    "\n",
    "每個節點彼此間都有相互連結，你可以從任意節點往從頭到尾，也可以從尾到頭方向去遍訪。"
   ]
  },
  {
   "cell_type": "code",
   "execution_count": 6,
   "metadata": {
    "collapsed": true
   },
   "outputs": [],
   "source": [
    "class DNode:\n",
    "    \n",
    "    def __init__(self, value):\n",
    "        self.value = value\n",
    "        self.prev = None\n",
    "        self.next = None\n",
    "        \n",
    "a = DNode(1)\n",
    "b = DNode(2)\n",
    "c = DNode(3)\n",
    "\n",
    "a.next = b\n",
    "b.prev = a\n",
    "b.next = c\n",
    "c.prev = b"
   ]
  },
  {
   "cell_type": "markdown",
   "metadata": {},
   "source": [
    "# Interview Questions\n",
    "\n",
    "## Singly Linked List Cycle Check\n",
    "\n",
    "給予Singly Linked List的第一個node，然後去檢查這個linked list是否有所謂的cycle，cycle指的是node的下一個點，是之前的節點，所以在圖像表示就是會形成一個循環。"
   ]
  },
  {
   "cell_type": "code",
   "execution_count": 7,
   "metadata": {
    "collapsed": true
   },
   "outputs": [],
   "source": [
    "import unittest\n",
    "\n",
    "def cycle_check(node):\n",
    "    nodes = set()\n",
    "    while node != None:\n",
    "        nodes.add(node)\n",
    "        \n",
    "        if node.next in nodes:\n",
    "            return True\n",
    "        \n",
    "        node = node.next\n",
    "    \n",
    "    return False\n"
   ]
  },
  {
   "cell_type": "code",
   "execution_count": 8,
   "metadata": {
    "collapsed": true
   },
   "outputs": [],
   "source": [
    "# 另外一種解法，也是很聰明的解法\n",
    "# 如果今天是一個循環list，那麼可以想成有兩個人在跑步，一個快，一個慢，\n",
    "# 所以勢必一定到最後會重疊，這是主要想法，那麼這個所謂的最後，要多久呢？\n",
    "# 快的人想要追上慢的人，勢必就是要多跑整個全部路程，如果是操場也就是所謂的一圈，\n",
    "# 因此取決於快的人快多少然後 n（全部長度) / x（快多少)\n",
    "# 所以這個演算法絕對是 BigO(n)\n",
    "\n",
    "def cycle_check2(node):\n",
    "    runner_one = node\n",
    "    runner_two = node\n",
    "    \n",
    "    while runner_two != None and runner_two.next != None:\n",
    "        runner_one = runner_one.next\n",
    "        runner_two = runner_two.next.next\n",
    "        \n",
    "        if runner_one == runner_two:\n",
    "            return True\n",
    "        \n",
    "    return False"
   ]
  },
  {
   "cell_type": "markdown",
   "metadata": {},
   "source": [
    "比較進階的可能會問說，那個是從哪個點就開始產生cycle的，這邊的思維是\n",
    "\n",
    "起點 到 cycle開始點 距離為 a\n",
    "cycle開始點 到 重合點 距離為 b\n",
    "重合點 到 cycle開始點 距離為 c\n",
    "\n",
    "然後因為今天跑得快是一次跑兩步，跑得慢是一次跑一步，因此在匯合的時候跑得快所跑的距離是跑得慢的兩倍\n",
    "\n",
    "$$ a+b+c+b = 2(a+b) $$\n",
    "\n",
    "得到\n",
    "\n",
    "$$ a = c $$\n",
    "\n",
    "因此今天解法就出現了，上面已經算到重合的點了，所以我們只要讓其中一位從頭開始跑一次一步，另外一位從重合點開始跑一次一步，就會得到cycle開始點了\n",
    "\n",
    "\n",
    "```python\n",
    "def cycle_start_pt(node):\n",
    "    runner_one = node\n",
    "    runner_two = node\n",
    "    \n",
    "    while runner_two != None and runner_two.next != None:\n",
    "        runner_one = runner_one.next\n",
    "        runner_two = runner_two.next.next\n",
    "        \n",
    "        if runner_one == runner_two:\n",
    "            match_point = runner_one\n",
    "            runner_one = node\n",
    "            \n",
    "            while runner_one != runner_two:\n",
    "                runner_one = runner_one.next\n",
    "                runner_two = runner_two.next\n",
    "            \n",
    "            return runner_one # the cycle start point we get ! yapi\n",
    "        \n",
    "    return False\n",
    "\n",
    "```"
   ]
  },
  {
   "cell_type": "code",
   "execution_count": 9,
   "metadata": {},
   "outputs": [
    {
     "name": "stdout",
     "output_type": "stream",
     "text": [
      "ALL TEST CASES PASSED\n"
     ]
    }
   ],
   "source": [
    "# CREATE CYCLE LIST\n",
    "a = Node(1)\n",
    "b = Node(2)\n",
    "c = Node(3)\n",
    "\n",
    "a.next = b\n",
    "b.next = c\n",
    "c.next = a # Cycle Here!\n",
    "\n",
    "\n",
    "# CREATE NON CYCLE LIST\n",
    "x = Node(1)\n",
    "y = Node(2)\n",
    "z = Node(3)\n",
    "\n",
    "x.next = y\n",
    "y.next = z\n",
    "\n",
    "\n",
    "#############\n",
    "class TestCycleCheck(unittest.TestCase):\n",
    "    \n",
    "    def test(self,sol):\n",
    "        self.assertEqual(sol(a),True)\n",
    "        self.assertEqual(sol(x),False)\n",
    "        \n",
    "        print(\"ALL TEST CASES PASSED\")\n",
    "        \n",
    "# Run Tests\n",
    "\n",
    "t = TestCycleCheck()\n",
    "t.test(cycle_check2)"
   ]
  },
  {
   "cell_type": "markdown",
   "metadata": {},
   "source": [
    "## Linked List Reversal\n",
    "\n",
    "撰寫一個函式，將linked list給反轉，而且是in place，也就是不是回傳新的list而是將原本的list給反轉\n",
    "\n",
    "in place means operate in O(1) space\n",
    "\n",
    "**訣竅**在於在改變cur.next前，必須先copy起來，因為後來你會做cur.next = prev的動作，如果不先copy你就會失去下一個點的路標"
   ]
  },
  {
   "cell_type": "code",
   "execution_count": 10,
   "metadata": {
    "collapsed": true
   },
   "outputs": [],
   "source": [
    "def reverse(head):\n",
    "    \n",
    "    prev = head\n",
    "    cur = head.next\n",
    "    prev.next = None\n",
    "    \n",
    "    while cur != None:\n",
    "        temp = cur.next\n",
    "        cur.next = prev\n",
    "        \n",
    "        prev = cur\n",
    "        cur = temp\n",
    "        "
   ]
  },
  {
   "cell_type": "code",
   "execution_count": 11,
   "metadata": {
    "collapsed": true
   },
   "outputs": [],
   "source": [
    "#Create a list of 4 nodes\n",
    "a = Node(1)\n",
    "b = Node(2)\n",
    "c = Node(3)\n",
    "d = Node(4)\n",
    "\n",
    "# Set up order a,b,c,d with values 1,2,3,4\n",
    "a.next = b\n",
    "b.next = c\n",
    "c.next = d\n",
    "\n",
    "reverse(a)"
   ]
  },
  {
   "cell_type": "code",
   "execution_count": 12,
   "metadata": {},
   "outputs": [
    {
     "name": "stdout",
     "output_type": "stream",
     "text": [
      "1\n",
      "2\n",
      "3\n",
      "4\n",
      "4\n",
      "3\n",
      "2\n",
      "1\n"
     ]
    }
   ],
   "source": [
    "#Create a list of 4 nodes\n",
    "a = Node(1)\n",
    "b = Node(2)\n",
    "c = Node(3)\n",
    "d = Node(4)\n",
    "\n",
    "# Set up order a,b,c,d with values 1,2,3,4\n",
    "a.next = b\n",
    "b.next = c\n",
    "c.next = d\n",
    "\n",
    "def print_nodes(node):\n",
    "    while node != None:\n",
    "        print(node.value)\n",
    "        node = node.next\n",
    "        \n",
    "print_nodes(a)\n",
    "\n",
    "reverse(a)\n",
    "\n",
    "# 建議可以在執行前先run cycle_check免得進入for loop forever\n",
    "print_nodes(d)"
   ]
  },
  {
   "cell_type": "markdown",
   "metadata": {},
   "source": [
    "## Linked List Nth to Last Node\n",
    "\n",
    "撰寫一個函式，接受數字n和linked list的head，回傳倒數第n個的節點\n"
   ]
  },
  {
   "cell_type": "code",
   "execution_count": 20,
   "metadata": {
    "collapsed": true
   },
   "outputs": [],
   "source": [
    "def nth_to_last_node(n, head):\n",
    "    nodes = []\n",
    "    node = head\n",
    "    while node != None:\n",
    "        nodes.append(node)\n",
    "        node = node.next\n",
    "        \n",
    "    return nodes[-n]"
   ]
  },
  {
   "cell_type": "code",
   "execution_count": 23,
   "metadata": {
    "collapsed": true
   },
   "outputs": [],
   "source": [
    "# another solution here\n",
    "\n",
    "def nth_to_last_node(n, head):\n",
    "    \n",
    "    lptr = head\n",
    "    rptr = head\n",
    "    \n",
    "    for i in range(n-1):\n",
    "        if rptr == None:\n",
    "            raise Exception('n is larger than linked list length')\n",
    "            \n",
    "        rptr = rptr.next\n",
    "        \n",
    "    while rptr.next != None:\n",
    "        lptr = lptr.next\n",
    "        rptr = rptr.next\n",
    "        \n",
    "    return lptr"
   ]
  },
  {
   "cell_type": "code",
   "execution_count": 25,
   "metadata": {},
   "outputs": [
    {
     "name": "stdout",
     "output_type": "stream",
     "text": [
      "ALL TEST CASES PASSED\n"
     ]
    }
   ],
   "source": [
    "a = Node(1)\n",
    "b = Node(2)\n",
    "c = Node(3)\n",
    "d = Node(4)\n",
    "e = Node(5)\n",
    "\n",
    "a.next = b\n",
    "b.next = c\n",
    "c.next = d\n",
    "d.next = e\n",
    "\n",
    "####\n",
    "\n",
    "class TestNLast(unittest.TestCase):\n",
    "    \n",
    "    def test(self,sol):\n",
    "        \n",
    "        self.assertEqual(sol(2,a),d)\n",
    "        print('ALL TEST CASES PASSED')\n",
    "        \n",
    "# Run tests\n",
    "t = TestNLast()\n",
    "t.test(nth_to_last_node)"
   ]
  },
  {
   "cell_type": "markdown",
   "metadata": {},
   "source": [
    "在做這類的題目時，都要特別注意邊界的問題，要用open mind去看這個題目～  初始時跟結束時都要特別注意\n",
    "\n",
    "## Implement a singly linked list"
   ]
  },
  {
   "cell_type": "code",
   "execution_count": 28,
   "metadata": {
    "collapsed": true
   },
   "outputs": [],
   "source": [
    "class Node:\n",
    "    \n",
    "    def __init__(self, value):\n",
    "        self.value = value\n",
    "        self.next = None\n",
    "        \n",
    "class sList:\n",
    "    \n",
    "    def __init__(self, value):\n",
    "        self.head = Node(value)\n",
    "        self.cur = head\n",
    "        \n",
    "    def link(self, value):\n",
    "        node = Node(value)\n",
    "        self.cur.next = node\n",
    "        self.cur = node\n",
    "        \n"
   ]
  },
  {
   "cell_type": "markdown",
   "metadata": {},
   "source": [
    "## implement a Double Linked List"
   ]
  },
  {
   "cell_type": "code",
   "execution_count": 38,
   "metadata": {
    "collapsed": true
   },
   "outputs": [],
   "source": [
    "class DNode:\n",
    "    \n",
    "    def __init__(self, value):\n",
    "        self.value = value\n",
    "        self.prev = None\n",
    "        self.next = None\n",
    "        \n",
    "    def __str__(self):\n",
    "        return \"dnoe: {}\".format(self.value)\n",
    "        \n",
    "\n",
    "class DList:\n",
    "    \n",
    "    def __init__(self, value):\n",
    "        self.head = DNode(value)\n",
    "        self.cur = self.head\n",
    "        self.tail = DNode(0)\n",
    "        \n",
    "        self.head.next = self.tail\n",
    "        self.tail.prev = self.head\n",
    "        \n",
    "    def __str__(self):\n",
    "        res = []\n",
    "        ptr = self.head\n",
    "        while ptr != None:\n",
    "            res.append(ptr.value)\n",
    "            ptr = ptr.next\n",
    "            \n",
    "        return str(res)\n",
    "        \n",
    "    def addNode(self, value):\n",
    "        node = DNode(value)\n",
    "        ori_next = self.cur.next\n",
    "        \n",
    "        self.cur.next = node\n",
    "        node.prev = self.cur\n",
    "        node.next = ori_next\n",
    "        \n",
    "        ori_next.prev = node\n",
    "        \n",
    "        self.cur = node\n",
    "        "
   ]
  },
  {
   "cell_type": "code",
   "execution_count": 40,
   "metadata": {},
   "outputs": [
    {
     "name": "stdout",
     "output_type": "stream",
     "text": [
      "[1, 3, 10, 0]\n"
     ]
    }
   ],
   "source": [
    "lst = DList(1)\n",
    "\n",
    "lst.addNode(3)\n",
    "lst.addNode(10)\n",
    "print(lst)"
   ]
  }
 ],
 "metadata": {
  "kernelspec": {
   "display_name": "Python 3",
   "language": "python",
   "name": "python3"
  },
  "language_info": {
   "codemirror_mode": {
    "name": "ipython",
    "version": 3
   },
   "file_extension": ".py",
   "mimetype": "text/x-python",
   "name": "python",
   "nbconvert_exporter": "python",
   "pygments_lexer": "ipython3",
   "version": "3.5.2"
  }
 },
 "nbformat": 4,
 "nbformat_minor": 2
}
