{
 "cells": [
  {
   "cell_type": "markdown",
   "metadata": {},
   "source": [
    "# Array Interview Question\n",
    "\n",
    "\n",
    "### Anagram Check\n",
    "\n",
    "anagram是一種字的轉換，使用相同的字母以任意順序重新組成不同的字，之中有任意空白都可以例如， \"apple\" -> \"ap e lp\"\n"
   ]
  },
  {
   "cell_type": "code",
   "execution_count": 37,
   "metadata": {
    "collapsed": true
   },
   "outputs": [],
   "source": [
    "def anagram(s1, s2):\n",
    "    l_bound = ord('0')\n",
    "    r_bound = ord('z')\n",
    "    appeared = [0]*(r_bound - l_bound)\n",
    "    \n",
    "    for letter in s1:\n",
    "        if letter != ' ':\n",
    "            mapping = ord(letter) - l_bound\n",
    "            appeared[mapping] += 1\n",
    "\n",
    "    for letter in s2:\n",
    "        if letter != ' ':\n",
    "            mapping = ord(letter) - l_bound\n",
    "            appeared[mapping] -= 1\n",
    "            if appeared[mapping] < 0:\n",
    "                return False\n",
    "    \n",
    "    for ele in appeared:\n",
    "        if ele != 0:\n",
    "            return False\n",
    "    \n",
    "    return True\n"
   ]
  },
  {
   "cell_type": "code",
   "execution_count": 38,
   "metadata": {},
   "outputs": [
    {
     "name": "stdout",
     "output_type": "stream",
     "text": [
      "success\n"
     ]
    }
   ],
   "source": [
    "import unittest\n",
    "\n",
    "\n",
    "class TestAnagram(unittest.TestCase):\n",
    "    \n",
    "    def test(self, solve):\n",
    "        \n",
    "        self.assertEqual(solve('go go go','gggooo'), True)\n",
    "        self.assertEqual(solve('abc','cba'), True)\n",
    "        self.assertEqual(solve('hi man','hi     man'), True)\n",
    "        self.assertEqual(solve('aabbcc','aabbc'), False)\n",
    "        self.assertEqual(solve('123','1 2'), False)\n",
    "        print('success')\n",
    "        \n",
    "\n",
    "t = TestAnagram('test') # need to provide the method name, default is runTest\n",
    "t.test(anagram)"
   ]
  },
  {
   "cell_type": "markdown",
   "metadata": {},
   "source": [
    "個人這邊這解法可能會不夠完善，因為僅僅是針對魚數字字母的陣列mapping,但是萬一有符號就不知道要怎辦了，所以當然是可以用dict來解掉這煩人的問題拉，只是想說這是屬於array類別的問題，就故意只用array解"
   ]
  },
  {
   "cell_type": "markdown",
   "metadata": {},
   "source": [
    "### Array Pair Sum\n",
    "\n",
    "給予一個數字陣列，找出所有特定的數字配對的加起來為特定值k\n",
    "ex.\n",
    "\n",
    "```python\n",
    "\n",
    "pair_sum([1,3,2,2], 4)\n",
    "\n",
    "(1,3)\n",
    "(2,2)\n",
    "\n",
    "今天是要回傳有幾個配對就好，所以是回傳數字2\n",
    "```"
   ]
  },
  {
   "cell_type": "code",
   "execution_count": 39,
   "metadata": {
    "collapsed": true
   },
   "outputs": [],
   "source": [
    "def pair_sum(arr,k):\n",
    "    res = [False]*len(arr)\n",
    "    \n",
    "    for i in range(len(arr)-1):\n",
    "        for j in range(i+1,len(arr)):\n",
    "            if arr[i] + arr[j] == k:\n",
    "                    res[i] = True\n",
    "                    res[j] = True\n",
    "                   \n",
    "    pair_count = [1 for ele in res if ele == True]\n",
    "    \n",
    "    return len(pair_count)//2"
   ]
  },
  {
   "cell_type": "markdown",
   "metadata": {},
   "source": [
    "上面效率會是$ Big O(n^2) $，但是如果可以使用dict或是set的話，就可以把效率壓到 $ BigO(n) $，因為 `n in dict` 這樣的查找只需 $ BigO(1) $，在array找尋你要的值是要花費 $ BigO(n) $,下面我們就來換成用set or dict來實作"
   ]
  },
  {
   "cell_type": "code",
   "execution_count": 40,
   "metadata": {
    "collapsed": true
   },
   "outputs": [],
   "source": [
    "def pair_sum_set_version(arr, k):\n",
    "    to_seek = set()\n",
    "    output = set()\n",
    "    \n",
    "    for num in arr:\n",
    "        \n",
    "        target = k - num\n",
    "        \n",
    "        if target not in to_seek:\n",
    "            to_seek.add(num)\n",
    "        else:\n",
    "            output.add((min(num, target), max(num, target)))\n",
    "            \n",
    "    return len(output)"
   ]
  },
  {
   "cell_type": "code",
   "execution_count": 41,
   "metadata": {},
   "outputs": [
    {
     "name": "stdout",
     "output_type": "stream",
     "text": [
      "success\n"
     ]
    }
   ],
   "source": [
    "class TestPairSum(unittest.TestCase):\n",
    "    \n",
    "    def test(self, solve):\n",
    "        \n",
    "        self.assertEqual(solve([1,9,2,8,3,7,4,6,5,5,13,14,11,13,-1],10),6)\n",
    "        self.assertEqual(solve([1,2,3,1],3),1)\n",
    "        self.assertEqual(solve([1,3,2,2],4),2)\n",
    "        print('success')\n",
    "        \n",
    "t = TestPairSum()\n",
    "t.test(pair_sum_set_version)"
   ]
  },
  {
   "cell_type": "markdown",
   "metadata": {},
   "source": [
    "### finding missing element\n",
    "\n",
    "這題是會給予你兩個array，第二個array是從第一個array隨機刪除一個元素後，並且進行洗亂的動作，然後今天你的任務就是要去找那個消失的元素"
   ]
  },
  {
   "cell_type": "code",
   "execution_count": 42,
   "metadata": {
    "collapsed": true
   },
   "outputs": [],
   "source": [
    "def finder(ary, ary2):\n",
    "    table = {}\n",
    "    \n",
    "    for ele in ary:\n",
    "        if ele in table:\n",
    "            table[ele] += 1\n",
    "        else:\n",
    "            table[ele] = 1\n",
    "    \n",
    "    for ele in ary2:\n",
    "        if ele in table:\n",
    "            table[ele] -= 1\n",
    "        else:\n",
    "            return ele\n",
    "    \n",
    "    for k, v in table.items():\n",
    "        if v != 0:\n",
    "            return k"
   ]
  },
  {
   "cell_type": "markdown",
   "metadata": {},
   "source": [
    "上面這個邏輯，如果是先用ary2去做表紀錄的話邏輯上會更加簡潔，也會少了最後一步\n",
    "\n",
    "```python\n",
    "\n",
    "for ele in ary2:\n",
    "    table[ele] = 1\n",
    "\n",
    "for ele in ary1:\n",
    "    if (ele not in table) or (table[ele] == 0):\n",
    "        return ele\n",
    "    else:\n",
    "        table[ele] -= 1\n",
    "\n",
    "```\n",
    "\n",
    "這個解法算是最快的，因為如果使用排序的話最少都會要 $ n \\log n $，排序就是loop他去找不一樣的元素而已。\n",
    "\n",
    "\n",
    "另外有個天殺的聰明解法，這我真的沒想到就是使用XOR，讓我們先來看看code\n",
    "xor ( exclude or ) 具有排他性的or，就是or只要兩者之一有true結果就會是true，但是兩個都是true對於程式會是一種ambiguous，因此exclude這種情況，所以xor就是one or the other but not both\n",
    "\n",
    "\n",
    "$ A \\vee B $ but not  $ A \\wedge B $\n",
    "\n",
    "直接從語意上翻譯成數學就是像下面\n",
    "\n",
    "$$ A \\oplus B = (A \\vee B) \\wedge \\neg ( A \\wedge B) $$\n",
    "\n",
    "\n",
    "總之呢！ 因為xor的特性，若是兩個完全一樣的ary，你將會發現最後結果會是0\n",
    "\n",
    "```python\n",
    "\n",
    "def finder_xor(arr1, arr2): \n",
    "    result=0 \n",
    "    \n",
    "    # Perform an XOR between the numbers in the arrays\n",
    "    for num in arr1+arr2: \n",
    "        result^=num \n",
    "        print result\n",
    "        \n",
    "    return result \n",
    "    \n",
    "```\n",
    "\n"
   ]
  },
  {
   "cell_type": "code",
   "execution_count": 43,
   "metadata": {},
   "outputs": [
    {
     "name": "stdout",
     "output_type": "stream",
     "text": [
      "success\n"
     ]
    }
   ],
   "source": [
    "class TestFinder(unittest.TestCase):\n",
    "    \n",
    "    def test(self, solve):\n",
    "        \n",
    "        self.assertEqual(solve([5,5,7,7],[5,7,7]),5)\n",
    "        self.assertEqual(solve([1,2,3,4,5,6,7],[3,7,2,1,4,6]),5)\n",
    "        self.assertEqual(solve([9,8,7,6,5,4,3,2,1],[9,8,7,5,4,3,2,1]),6)\n",
    "        print('success')\n",
    "        \n",
    "t = TestFinder()\n",
    "t.test(finder)"
   ]
  },
  {
   "cell_type": "markdown",
   "metadata": {},
   "source": [
    "### largest continuous sum\n",
    "\n",
    "題目會給予你一個陣列，你的任務就是要去從裡面發現哪種連續數字的總和會是最大值，不一定是全部數字加起來是最大，因為裡面會有負數，有可能是從某某位置開始的連續Ｘ個數子總和才是最大。\n"
   ]
  },
  {
   "cell_type": "code",
   "execution_count": 44,
   "metadata": {
    "collapsed": true
   },
   "outputs": [],
   "source": [
    "def lar_con_sum(ary):\n",
    "    \n",
    "    if len(ary) == 0:\n",
    "        return 0\n",
    "    \n",
    "    max_sum = cur_sum = ary[0]\n",
    "    \n",
    "    for num in ary[1:]:\n",
    "        cur_sum = max(cur_sum+num, num)\n",
    "        max_sum = max(cur_sum, max_sum)\n",
    "        \n",
    "    return max_sum\n",
    "        \n",
    "    "
   ]
  },
  {
   "cell_type": "markdown",
   "metadata": {},
   "source": [
    "這題的思緒是，長度n的連續數字最大和，一定是從長度n-1連續數字最大和來的\n",
    "\n",
    "所以今天從index=0時來看，因為元素只有一個這時候就是他本身為最大值，當index=1時，我們就要來比較ele[0]+ele[1]和ele[0] <- 當前最大值的比較，比較這兩者然後取最大的，需要注意的是，我們需要暫存目前的sum，因為這是拿來判斷後面遇到負數狀時況，計算另一個最大值的點，此時另一個最大值(cur_sum)仍然會與之前最大值去比較(max_sum)，"
   ]
  },
  {
   "cell_type": "code",
   "execution_count": 45,
   "metadata": {},
   "outputs": [
    {
     "name": "stdout",
     "output_type": "stream",
     "text": [
      "success\n"
     ]
    }
   ],
   "source": [
    "class TestLargestConSum(unittest.TestCase):\n",
    "    \n",
    "    def test(self, solve):\n",
    "        \n",
    "        self.assertEqual(solve([1,2,-1,3,4,-1]),9)\n",
    "        self.assertEqual(solve([1,2,-1,3,4,10,10,-10,-1]),29)\n",
    "        self.assertEqual(solve([-1,1]),1)\n",
    "        self.assertEqual(solve([1,2,-10,5,6]), 11)\n",
    "        print('success')\n",
    "        \n",
    "t = TestLargestConSum()\n",
    "t.test(lar_con_sum)"
   ]
  },
  {
   "cell_type": "markdown",
   "metadata": {},
   "source": [
    "#### Sentence Reversal\n",
    "\n",
    "給予一個字串，然後反轉單字順序，例如： 'here it is' -> 'is it here'"
   ]
  },
  {
   "cell_type": "code",
   "execution_count": 46,
   "metadata": {
    "collapsed": true
   },
   "outputs": [],
   "source": [
    "def sentenceReversal(str1):\n",
    "    str1 = str1.strip()\n",
    "    words = str1.split()  \n",
    "    \n",
    "    result = ''\n",
    "    \n",
    "    for i in range(len(words)):\n",
    "        result += ' '+words[len(words)-i-1]\n",
    "        \n",
    "    return result.strip()\n",
    "        "
   ]
  },
  {
   "cell_type": "code",
   "execution_count": 47,
   "metadata": {},
   "outputs": [
    {
     "name": "stdout",
     "output_type": "stream",
     "text": [
      "success\n"
     ]
    }
   ],
   "source": [
    "class TestSentenceReversal(unittest.TestCase):\n",
    "    \n",
    "    def test(self, solve):\n",
    "        self.assertEqual(solve('    space before'),'before space')\n",
    "        self.assertEqual(solve('space after     '),'after space')\n",
    "        self.assertEqual(solve('   Hello John    how are you   '),'you are how John Hello')\n",
    "        self.assertEqual(solve('1'),'1')\n",
    "        print('success')\n",
    "        \n",
    "t = TestSentenceReversal()\n",
    "t.test(sentenceReversal)"
   ]
  },
  {
   "cell_type": "markdown",
   "metadata": {},
   "source": [
    "值得注意的是python string split這個方法，不帶參數的話，預設是做strip的事然後分割，跟你使用 split(' ')得到的結果會不一樣，另外面試時可能要使用比較基本的方式來實作這題，也就是少用python trick的方式。"
   ]
  },
  {
   "cell_type": "markdown",
   "metadata": {},
   "source": [
    "#### string compression\n",
    "\n",
    "給予一串字串，轉換成數字加字母的標記法，雖然覺得這個壓縮怪怪的，因為無法保留字母順序"
   ]
  },
  {
   "cell_type": "code",
   "execution_count": 48,
   "metadata": {
    "collapsed": true
   },
   "outputs": [],
   "source": [
    "def compression(str1):\n",
    "    mapping = {}\n",
    "    letter_order = [False]\n",
    "    result = ''\n",
    "    \n",
    "    for ele in str1:\n",
    "        if ele != letter_order[-1]:\n",
    "            letter_order.append(ele)\n",
    "            \n",
    "        if ele not in mapping:\n",
    "            mapping[ele] = 1\n",
    "        else:\n",
    "            mapping[ele] += 1\n",
    "            \n",
    "    for key in letter_order[1:]:\n",
    "        result += '{}{}'.format(key, mapping[key])\n",
    "        \n",
    "    return result"
   ]
  },
  {
   "cell_type": "code",
   "execution_count": 49,
   "metadata": {},
   "outputs": [
    {
     "name": "stdout",
     "output_type": "stream",
     "text": [
      "success\n"
     ]
    }
   ],
   "source": [
    "class TestCompression(unittest.TestCase):\n",
    "    \n",
    "    def test(self, solve):\n",
    "        self.assertEqual(solve(''), '')\n",
    "        self.assertEqual(solve('AABBCC'), 'A2B2C2')\n",
    "        self.assertEqual(solve('AAABCCDDDDD'), 'A3B1C2D5')\n",
    "        print('success')\n",
    "        \n",
    "t = TestCompression()\n",
    "t.test(compression)"
   ]
  },
  {
   "cell_type": "markdown",
   "metadata": {},
   "source": [
    "#### unique characters in string\n",
    "\n",
    "給予一串字串並判斷他是否全部不同的字母\n"
   ]
  },
  {
   "cell_type": "code",
   "execution_count": 50,
   "metadata": {
    "collapsed": true
   },
   "outputs": [],
   "source": [
    "def uni_char(str1):\n",
    "    mapping = {}\n",
    "    \n",
    "    for letter in str1:\n",
    "        if letter in mapping:\n",
    "            return False\n",
    "        else:\n",
    "            mapping[letter] = True\n",
    "    \n",
    "    return True\n",
    "\n",
    "def uni_char2(str1):\n",
    "    return len(set(str1)) == len(str1)"
   ]
  },
  {
   "cell_type": "code",
   "execution_count": 51,
   "metadata": {},
   "outputs": [
    {
     "name": "stdout",
     "output_type": "stream",
     "text": [
      "success\n"
     ]
    }
   ],
   "source": [
    "class TestUniChar(unittest.TestCase):\n",
    "    \n",
    "    def test(self, solve):\n",
    "        self.assertEqual(solve(''), True)\n",
    "        self.assertEqual(solve('goo'), False)\n",
    "        self.assertEqual(solve('abcdefg'), True)\n",
    "        print('success')\n",
    "        \n",
    "t = TestUniChar()\n",
    "t.test(uni_char2)"
   ]
  }
 ],
 "metadata": {
  "kernelspec": {
   "display_name": "Python 3",
   "language": "python",
   "name": "python3"
  },
  "language_info": {
   "codemirror_mode": {
    "name": "ipython",
    "version": 3
   },
   "file_extension": ".py",
   "mimetype": "text/x-python",
   "name": "python",
   "nbconvert_exporter": "python",
   "pygments_lexer": "ipython3",
   "version": "3.5.2"
  }
 },
 "nbformat": 4,
 "nbformat_minor": 2
}
